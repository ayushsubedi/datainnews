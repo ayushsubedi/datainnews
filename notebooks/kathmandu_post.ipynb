{
 "cells": [
  {
   "cell_type": "code",
   "execution_count": 1,
   "metadata": {},
   "outputs": [],
   "source": [
    "import pandas as pd"
   ]
  },
  {
   "cell_type": "code",
   "execution_count": 3,
   "metadata": {},
   "outputs": [],
   "source": [
    "df = pd.read_csv('raw_kathmandu_post/tweets.csv', low_memory=False)"
   ]
  },
  {
   "cell_type": "code",
   "execution_count": 5,
   "metadata": {},
   "outputs": [
    {
     "data": {
      "text/plain": [
       "['id',\n",
       " 'conversation_id',\n",
       " 'created_at',\n",
       " 'date',\n",
       " 'time',\n",
       " 'timezone',\n",
       " 'user_id',\n",
       " 'username',\n",
       " 'name',\n",
       " 'place',\n",
       " 'tweet',\n",
       " 'language',\n",
       " 'mentions',\n",
       " 'urls',\n",
       " 'photos',\n",
       " 'replies_count',\n",
       " 'retweets_count',\n",
       " 'likes_count',\n",
       " 'hashtags',\n",
       " 'cashtags',\n",
       " 'link',\n",
       " 'retweet',\n",
       " 'quote_url',\n",
       " 'video',\n",
       " 'thumbnail',\n",
       " 'near',\n",
       " 'geo',\n",
       " 'source',\n",
       " 'user_rt_id',\n",
       " 'user_rt',\n",
       " 'retweet_id',\n",
       " 'reply_to',\n",
       " 'retweet_date',\n",
       " 'translate',\n",
       " 'trans_src',\n",
       " 'trans_dest']"
      ]
     },
     "execution_count": 5,
     "metadata": {},
     "output_type": "execute_result"
    }
   ],
   "source": [
    "list(df)"
   ]
  },
  {
   "cell_type": "code",
   "execution_count": 8,
   "metadata": {},
   "outputs": [],
   "source": [
    "df = df[['id', 'date', 'tweet', 'time', 'urls']]"
   ]
  },
  {
   "cell_type": "code",
   "execution_count": 14,
   "metadata": {},
   "outputs": [
    {
     "data": {
      "text/plain": [
       "(104850, 5)"
      ]
     },
     "execution_count": 14,
     "metadata": {},
     "output_type": "execute_result"
    }
   ],
   "source": [
    "df.shape"
   ]
  },
  {
   "cell_type": "code",
   "execution_count": 15,
   "metadata": {},
   "outputs": [
    {
     "data": {
      "text/html": [
       "<div>\n",
       "<style scoped>\n",
       "    .dataframe tbody tr th:only-of-type {\n",
       "        vertical-align: middle;\n",
       "    }\n",
       "\n",
       "    .dataframe tbody tr th {\n",
       "        vertical-align: top;\n",
       "    }\n",
       "\n",
       "    .dataframe thead th {\n",
       "        text-align: right;\n",
       "    }\n",
       "</style>\n",
       "<table border=\"1\" class=\"dataframe\">\n",
       "  <thead>\n",
       "    <tr style=\"text-align: right;\">\n",
       "      <th></th>\n",
       "      <th>id</th>\n",
       "      <th>date</th>\n",
       "      <th>tweet</th>\n",
       "      <th>time</th>\n",
       "      <th>urls</th>\n",
       "    </tr>\n",
       "  </thead>\n",
       "  <tbody>\n",
       "    <tr>\n",
       "      <th>0</th>\n",
       "      <td>1384858205365411843</td>\n",
       "      <td>2021-04-21</td>\n",
       "      <td>Nepali politicians are losing their moral comp...</td>\n",
       "      <td>19:00:00</td>\n",
       "      <td>['http://tkpo.st/3txH6mG']</td>\n",
       "    </tr>\n",
       "    <tr>\n",
       "      <th>1</th>\n",
       "      <td>1384842930247057408</td>\n",
       "      <td>2021-04-21</td>\n",
       "      <td>Nepal’s Covid-19 toll reaches 3,112 with 10 mo...</td>\n",
       "      <td>17:59:18</td>\n",
       "      <td>['https://tkpo.st/3syl55P']</td>\n",
       "    </tr>\n",
       "    <tr>\n",
       "      <th>2</th>\n",
       "      <td>1384835556098682880</td>\n",
       "      <td>2021-04-21</td>\n",
       "      <td>As many as 67 vultures found dead in Jitpur  I...</td>\n",
       "      <td>17:30:00</td>\n",
       "      <td>['https://tkpo.st/3eqpPFU']</td>\n",
       "    </tr>\n",
       "    <tr>\n",
       "      <th>3</th>\n",
       "      <td>1384830522984222722</td>\n",
       "      <td>2021-04-21</td>\n",
       "      <td>EDITORIAL: Online classes for some  The pandem...</td>\n",
       "      <td>17:10:00</td>\n",
       "      <td>['http://tkpo.st/3sBsVM9']</td>\n",
       "    </tr>\n",
       "    <tr>\n",
       "      <th>4</th>\n",
       "      <td>1384825924521140225</td>\n",
       "      <td>2021-04-21</td>\n",
       "      <td>Twitter becomes platform of hope amid the desp...</td>\n",
       "      <td>16:51:43</td>\n",
       "      <td>['https://tkpo.st/3xcw9cv']</td>\n",
       "    </tr>\n",
       "  </tbody>\n",
       "</table>\n",
       "</div>"
      ],
      "text/plain": [
       "                    id        date  \\\n",
       "0  1384858205365411843  2021-04-21   \n",
       "1  1384842930247057408  2021-04-21   \n",
       "2  1384835556098682880  2021-04-21   \n",
       "3  1384830522984222722  2021-04-21   \n",
       "4  1384825924521140225  2021-04-21   \n",
       "\n",
       "                                               tweet      time  \\\n",
       "0  Nepali politicians are losing their moral comp...  19:00:00   \n",
       "1  Nepal’s Covid-19 toll reaches 3,112 with 10 mo...  17:59:18   \n",
       "2  As many as 67 vultures found dead in Jitpur  I...  17:30:00   \n",
       "3  EDITORIAL: Online classes for some  The pandem...  17:10:00   \n",
       "4  Twitter becomes platform of hope amid the desp...  16:51:43   \n",
       "\n",
       "                          urls  \n",
       "0   ['http://tkpo.st/3txH6mG']  \n",
       "1  ['https://tkpo.st/3syl55P']  \n",
       "2  ['https://tkpo.st/3eqpPFU']  \n",
       "3   ['http://tkpo.st/3sBsVM9']  \n",
       "4  ['https://tkpo.st/3xcw9cv']  "
      ]
     },
     "execution_count": 15,
     "metadata": {},
     "output_type": "execute_result"
    }
   ],
   "source": [
    "df.head()"
   ]
  },
  {
   "cell_type": "code",
   "execution_count": 16,
   "metadata": {},
   "outputs": [
    {
     "data": {
      "text/html": [
       "<div>\n",
       "<style scoped>\n",
       "    .dataframe tbody tr th:only-of-type {\n",
       "        vertical-align: middle;\n",
       "    }\n",
       "\n",
       "    .dataframe tbody tr th {\n",
       "        vertical-align: top;\n",
       "    }\n",
       "\n",
       "    .dataframe thead th {\n",
       "        text-align: right;\n",
       "    }\n",
       "</style>\n",
       "<table border=\"1\" class=\"dataframe\">\n",
       "  <thead>\n",
       "    <tr style=\"text-align: right;\">\n",
       "      <th></th>\n",
       "      <th>id</th>\n",
       "      <th>date</th>\n",
       "      <th>tweet</th>\n",
       "      <th>time</th>\n",
       "      <th>urls</th>\n",
       "    </tr>\n",
       "  </thead>\n",
       "  <tbody>\n",
       "    <tr>\n",
       "      <th>104845</th>\n",
       "      <td>221099243107123201</td>\n",
       "      <td>2012-07-06</td>\n",
       "      <td>Integration of former combatants into Nepal Ar...</td>\n",
       "      <td>10:17:22</td>\n",
       "      <td>['http://fb.me/1MWLksOI5']</td>\n",
       "    </tr>\n",
       "    <tr>\n",
       "      <th>104846</th>\n",
       "      <td>221098935278772228</td>\n",
       "      <td>2012-07-06</td>\n",
       "      <td>Why make fuss of a confident PM after he hobno...</td>\n",
       "      <td>10:16:08</td>\n",
       "      <td>['http://fb.me/VKxnhs4N']</td>\n",
       "    </tr>\n",
       "    <tr>\n",
       "      <th>104847</th>\n",
       "      <td>221098156455247876</td>\n",
       "      <td>2012-07-06</td>\n",
       "      <td>The buzz over budget by Former Finance Ministe...</td>\n",
       "      <td>10:13:02</td>\n",
       "      <td>['http://fb.me/1Rwoo1bnG']</td>\n",
       "    </tr>\n",
       "    <tr>\n",
       "      <th>104848</th>\n",
       "      <td>221097419788664833</td>\n",
       "      <td>2012-07-06</td>\n",
       "      <td>Government plans to allocate Rs. 10 billion fo...</td>\n",
       "      <td>10:10:07</td>\n",
       "      <td>['http://fb.me/1JWfS9vGM']</td>\n",
       "    </tr>\n",
       "    <tr>\n",
       "      <th>104849</th>\n",
       "      <td>221095350692352000</td>\n",
       "      <td>2012-07-06</td>\n",
       "      <td>Is it possible, CA reinstatement for 27 minute...</td>\n",
       "      <td>10:01:54</td>\n",
       "      <td>['http://fb.me/28ZaLyQv7']</td>\n",
       "    </tr>\n",
       "  </tbody>\n",
       "</table>\n",
       "</div>"
      ],
      "text/plain": [
       "                        id        date  \\\n",
       "104845  221099243107123201  2012-07-06   \n",
       "104846  221098935278772228  2012-07-06   \n",
       "104847  221098156455247876  2012-07-06   \n",
       "104848  221097419788664833  2012-07-06   \n",
       "104849  221095350692352000  2012-07-06   \n",
       "\n",
       "                                                    tweet      time  \\\n",
       "104845  Integration of former combatants into Nepal Ar...  10:17:22   \n",
       "104846  Why make fuss of a confident PM after he hobno...  10:16:08   \n",
       "104847  The buzz over budget by Former Finance Ministe...  10:13:02   \n",
       "104848  Government plans to allocate Rs. 10 billion fo...  10:10:07   \n",
       "104849  Is it possible, CA reinstatement for 27 minute...  10:01:54   \n",
       "\n",
       "                              urls  \n",
       "104845  ['http://fb.me/1MWLksOI5']  \n",
       "104846   ['http://fb.me/VKxnhs4N']  \n",
       "104847  ['http://fb.me/1Rwoo1bnG']  \n",
       "104848  ['http://fb.me/1JWfS9vGM']  \n",
       "104849  ['http://fb.me/28ZaLyQv7']  "
      ]
     },
     "execution_count": 16,
     "metadata": {},
     "output_type": "execute_result"
    }
   ],
   "source": [
    "df.tail()"
   ]
  },
  {
   "cell_type": "code",
   "execution_count": 13,
   "metadata": {},
   "outputs": [
    {
     "data": {
      "text/html": [
       "<div>\n",
       "<style scoped>\n",
       "    .dataframe tbody tr th:only-of-type {\n",
       "        vertical-align: middle;\n",
       "    }\n",
       "\n",
       "    .dataframe tbody tr th {\n",
       "        vertical-align: top;\n",
       "    }\n",
       "\n",
       "    .dataframe thead th {\n",
       "        text-align: right;\n",
       "    }\n",
       "</style>\n",
       "<table border=\"1\" class=\"dataframe\">\n",
       "  <thead>\n",
       "    <tr style=\"text-align: right;\">\n",
       "      <th></th>\n",
       "      <th>id</th>\n",
       "    </tr>\n",
       "    <tr>\n",
       "      <th>date</th>\n",
       "      <th></th>\n",
       "    </tr>\n",
       "  </thead>\n",
       "  <tbody>\n",
       "    <tr>\n",
       "      <th>2012-07-06</th>\n",
       "      <td>22</td>\n",
       "    </tr>\n",
       "    <tr>\n",
       "      <th>2012-07-07</th>\n",
       "      <td>22</td>\n",
       "    </tr>\n",
       "    <tr>\n",
       "      <th>2012-07-08</th>\n",
       "      <td>11</td>\n",
       "    </tr>\n",
       "    <tr>\n",
       "      <th>2012-07-09</th>\n",
       "      <td>20</td>\n",
       "    </tr>\n",
       "    <tr>\n",
       "      <th>2012-07-10</th>\n",
       "      <td>3</td>\n",
       "    </tr>\n",
       "    <tr>\n",
       "      <th>...</th>\n",
       "      <td>...</td>\n",
       "    </tr>\n",
       "    <tr>\n",
       "      <th>2021-04-22</th>\n",
       "      <td>62</td>\n",
       "    </tr>\n",
       "    <tr>\n",
       "      <th>2021-04-23</th>\n",
       "      <td>56</td>\n",
       "    </tr>\n",
       "    <tr>\n",
       "      <th>2021-04-24</th>\n",
       "      <td>52</td>\n",
       "    </tr>\n",
       "    <tr>\n",
       "      <th>2021-04-25</th>\n",
       "      <td>48</td>\n",
       "    </tr>\n",
       "    <tr>\n",
       "      <th>2021-04-26</th>\n",
       "      <td>11</td>\n",
       "    </tr>\n",
       "  </tbody>\n",
       "</table>\n",
       "<p>2678 rows × 1 columns</p>\n",
       "</div>"
      ],
      "text/plain": [
       "            id\n",
       "date          \n",
       "2012-07-06  22\n",
       "2012-07-07  22\n",
       "2012-07-08  11\n",
       "2012-07-09  20\n",
       "2012-07-10   3\n",
       "...         ..\n",
       "2021-04-22  62\n",
       "2021-04-23  56\n",
       "2021-04-24  52\n",
       "2021-04-25  48\n",
       "2021-04-26  11\n",
       "\n",
       "[2678 rows x 1 columns]"
      ]
     },
     "execution_count": 13,
     "metadata": {},
     "output_type": "execute_result"
    }
   ],
   "source": [
    "df.groupby('date')[['id']].count()"
   ]
  },
  {
   "cell_type": "code",
   "execution_count": null,
   "metadata": {},
   "outputs": [],
   "source": [
    "df.groupby('date')[['id']].count().plot()"
   ]
  }
 ],
 "metadata": {
  "kernelspec": {
   "display_name": "Python 3",
   "language": "python",
   "name": "python3"
  },
  "language_info": {
   "codemirror_mode": {
    "name": "ipython",
    "version": 3
   },
   "file_extension": ".py",
   "mimetype": "text/x-python",
   "name": "python",
   "nbconvert_exporter": "python",
   "pygments_lexer": "ipython3",
   "version": "3.8.5"
  }
 },
 "nbformat": 4,
 "nbformat_minor": 4
}
