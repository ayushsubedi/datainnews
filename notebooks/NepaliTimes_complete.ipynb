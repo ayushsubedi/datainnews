{
 "cells": [
  {
   "cell_type": "code",
   "execution_count": 11,
   "metadata": {},
   "outputs": [],
   "source": [
    "import pandas as pd\n",
    "import twint\n",
    "import numpy as np\n",
    "import nest_asyncio\n",
    "nest_asyncio.apply()\n",
    "import datetime\n",
    "import ast\n",
    "from newspaper import Article\n",
    "from bs4 import BeautifulSoup\n",
    "from nltk.corpus import stopwords\n",
    "from nltk.tokenize import word_tokenize\n",
    "stop_words = set(stopwords.words('english'))"
   ]
  },
  {
   "cell_type": "code",
   "execution_count": 12,
   "metadata": {},
   "outputs": [],
   "source": [
    "df = pd.read_csv(\"NepaliTimes_analysis.csv\", parse_dates=['created_at'])"
   ]
  },
  {
   "cell_type": "code",
   "execution_count": 13,
   "metadata": {},
   "outputs": [
    {
     "data": {
      "text/plain": [
       "['id',\n",
       " 'created_at',\n",
       " 'urls',\n",
       " 'article',\n",
       " 'level1',\n",
       " 'level2',\n",
       " 'level3',\n",
       " 'level1_count',\n",
       " 'level_2_3_valid',\n",
       " 'level2_count',\n",
       " 'level3_count']"
      ]
     },
     "execution_count": 13,
     "metadata": {},
     "output_type": "execute_result"
    }
   ],
   "source": [
    "list(df)"
   ]
  },
  {
   "cell_type": "code",
   "execution_count": 14,
   "metadata": {},
   "outputs": [],
   "source": [
    "def clean_text(raw):\n",
    "    text = BeautifulSoup(raw, 'lxml').text\n",
    "    word_tokens = word_tokenize(text.lower().rstrip())\n",
    "    filtered_sentence = [w for w in word_tokens if not w in stop_words]\n",
    "    return ' '.join(filtered_sentence)"
   ]
  },
  {
   "cell_type": "code",
   "execution_count": 15,
   "metadata": {},
   "outputs": [],
   "source": [
    "def article(url):\n",
    "    if (len(url)==0):\n",
    "        return 404\n",
    "    url = url[0]\n",
    "    try:\n",
    "        article = Article(url)\n",
    "        article.download()\n",
    "        article.parse()\n",
    "        return clean_text(article.text)\n",
    "    except Exception as e:\n",
    "        return 404"
   ]
  },
  {
   "cell_type": "code",
   "execution_count": 16,
   "metadata": {},
   "outputs": [],
   "source": [
    "def get_new_articles(newspaper, since, until):\n",
    "    c = twint.Config()\n",
    "    c.Username = newspaper\n",
    "    c.Pandas = True\n",
    "    c.Hide_output= True\n",
    "    c.Since = since\n",
    "    c.Until = until\n",
    "    twint.run.Search(c)\n",
    "    df = twint.storage.panda.Tweets_df\n",
    "    df = df[['id', 'created_at', \"urls\"]]\n",
    "    return df\n",
    "#     df['article'] = df.urls.apply(article)\n",
    "#     df = df[df['article']!=404]\n",
    "#     return df"
   ]
  },
  {
   "cell_type": "code",
   "execution_count": null,
   "metadata": {},
   "outputs": [
    {
     "name": "stderr",
     "output_type": "stream",
     "text": [
      "WARNING:root:Error retrieving https://twitter.com/: ReadTimeout(ReadTimeoutError(\"HTTPSConnectionPool(host='twitter.com', port=443): Read timed out. (read timeout=10)\")), retrying\n"
     ]
    }
   ],
   "source": [
    "df_ = get_new_articles('NepaliTimes', since=df.created_at.max().strftime(\"%Y-%m-%d %H:%M:%S\"), until=datetime.datetime.now().strftime(\"%Y-%m-%d %H:%M:%S\"))"
   ]
  },
  {
   "cell_type": "code",
   "execution_count": null,
   "metadata": {},
   "outputs": [],
   "source": [
    "df_['article'] = df_.urls.apply(article)"
   ]
  },
  {
   "cell_type": "code",
   "execution_count": null,
   "metadata": {},
   "outputs": [],
   "source": [
    "df"
   ]
  },
  {
   "cell_type": "code",
   "execution_count": null,
   "metadata": {},
   "outputs": [],
   "source": []
  }
 ],
 "metadata": {
  "kernelspec": {
   "display_name": "Python 3",
   "language": "python",
   "name": "python3"
  },
  "language_info": {
   "codemirror_mode": {
    "name": "ipython",
    "version": 3
   },
   "file_extension": ".py",
   "mimetype": "text/x-python",
   "name": "python",
   "nbconvert_exporter": "python",
   "pygments_lexer": "ipython3",
   "version": "3.8.5"
  }
 },
 "nbformat": 4,
 "nbformat_minor": 4
}
