{
 "cells": [
  {
   "cell_type": "code",
   "execution_count": 1,
   "metadata": {},
   "outputs": [],
   "source": [
    "import pandas as pd\n",
    "from newspaper import Article\n",
    "import nltk\n",
    "import ast\n",
    "# !pip install swifter\n",
    "import swifter\n",
    "\n",
    "# nltk.download('punkt')\n",
    "# !pip install ipywidgets\n",
    "# !jupyter nbextension enable --py widgetsnbextension\n",
    "# !jupyter labextension install @jupyter-widgets/jupyterlab-manager"
   ]
  },
  {
   "cell_type": "code",
   "execution_count": 2,
   "metadata": {},
   "outputs": [],
   "source": [
    "df = pd.read_csv('raw_kathmandu_post/tweets.csv', usecols=['id', 'created_at', 'tweet', 'urls'], parse_dates=['created_at'])"
   ]
  },
  {
   "cell_type": "code",
   "execution_count": 3,
   "metadata": {},
   "outputs": [
    {
     "data": {
      "text/plain": [
       "['id', 'created_at', 'tweet', 'urls']"
      ]
     },
     "execution_count": 3,
     "metadata": {},
     "output_type": "execute_result"
    }
   ],
   "source": [
    "list(df)"
   ]
  },
  {
   "cell_type": "code",
   "execution_count": 4,
   "metadata": {},
   "outputs": [
    {
     "data": {
      "text/plain": [
       "(104850, 4)"
      ]
     },
     "execution_count": 4,
     "metadata": {},
     "output_type": "execute_result"
    }
   ],
   "source": [
    "df.shape"
   ]
  },
  {
   "cell_type": "code",
   "execution_count": 5,
   "metadata": {},
   "outputs": [
    {
     "data": {
      "text/html": [
       "<div>\n",
       "<style scoped>\n",
       "    .dataframe tbody tr th:only-of-type {\n",
       "        vertical-align: middle;\n",
       "    }\n",
       "\n",
       "    .dataframe tbody tr th {\n",
       "        vertical-align: top;\n",
       "    }\n",
       "\n",
       "    .dataframe thead th {\n",
       "        text-align: right;\n",
       "    }\n",
       "</style>\n",
       "<table border=\"1\" class=\"dataframe\">\n",
       "  <thead>\n",
       "    <tr style=\"text-align: right;\">\n",
       "      <th></th>\n",
       "      <th>id</th>\n",
       "      <th>created_at</th>\n",
       "      <th>tweet</th>\n",
       "      <th>urls</th>\n",
       "    </tr>\n",
       "  </thead>\n",
       "  <tbody>\n",
       "    <tr>\n",
       "      <th>0</th>\n",
       "      <td>1384858205365411843</td>\n",
       "      <td>2021-04-21 19:00:00+05:45</td>\n",
       "      <td>Nepali politicians are losing their moral comp...</td>\n",
       "      <td>['http://tkpo.st/3txH6mG']</td>\n",
       "    </tr>\n",
       "    <tr>\n",
       "      <th>1</th>\n",
       "      <td>1384842930247057408</td>\n",
       "      <td>2021-04-21 17:59:18+05:45</td>\n",
       "      <td>Nepal’s Covid-19 toll reaches 3,112 with 10 mo...</td>\n",
       "      <td>['https://tkpo.st/3syl55P']</td>\n",
       "    </tr>\n",
       "    <tr>\n",
       "      <th>2</th>\n",
       "      <td>1384835556098682880</td>\n",
       "      <td>2021-04-21 17:30:00+05:45</td>\n",
       "      <td>As many as 67 vultures found dead in Jitpur  I...</td>\n",
       "      <td>['https://tkpo.st/3eqpPFU']</td>\n",
       "    </tr>\n",
       "    <tr>\n",
       "      <th>3</th>\n",
       "      <td>1384830522984222722</td>\n",
       "      <td>2021-04-21 17:10:00+05:45</td>\n",
       "      <td>EDITORIAL: Online classes for some  The pandem...</td>\n",
       "      <td>['http://tkpo.st/3sBsVM9']</td>\n",
       "    </tr>\n",
       "    <tr>\n",
       "      <th>4</th>\n",
       "      <td>1384825924521140225</td>\n",
       "      <td>2021-04-21 16:51:43+05:45</td>\n",
       "      <td>Twitter becomes platform of hope amid the desp...</td>\n",
       "      <td>['https://tkpo.st/3xcw9cv']</td>\n",
       "    </tr>\n",
       "  </tbody>\n",
       "</table>\n",
       "</div>"
      ],
      "text/plain": [
       "                    id                created_at  \\\n",
       "0  1384858205365411843 2021-04-21 19:00:00+05:45   \n",
       "1  1384842930247057408 2021-04-21 17:59:18+05:45   \n",
       "2  1384835556098682880 2021-04-21 17:30:00+05:45   \n",
       "3  1384830522984222722 2021-04-21 17:10:00+05:45   \n",
       "4  1384825924521140225 2021-04-21 16:51:43+05:45   \n",
       "\n",
       "                                               tweet  \\\n",
       "0  Nepali politicians are losing their moral comp...   \n",
       "1  Nepal’s Covid-19 toll reaches 3,112 with 10 mo...   \n",
       "2  As many as 67 vultures found dead in Jitpur  I...   \n",
       "3  EDITORIAL: Online classes for some  The pandem...   \n",
       "4  Twitter becomes platform of hope amid the desp...   \n",
       "\n",
       "                          urls  \n",
       "0   ['http://tkpo.st/3txH6mG']  \n",
       "1  ['https://tkpo.st/3syl55P']  \n",
       "2  ['https://tkpo.st/3eqpPFU']  \n",
       "3   ['http://tkpo.st/3sBsVM9']  \n",
       "4  ['https://tkpo.st/3xcw9cv']  "
      ]
     },
     "execution_count": 5,
     "metadata": {},
     "output_type": "execute_result"
    }
   ],
   "source": [
    "df.head()"
   ]
  },
  {
   "cell_type": "code",
   "execution_count": 6,
   "metadata": {},
   "outputs": [
    {
     "data": {
      "text/html": [
       "<div>\n",
       "<style scoped>\n",
       "    .dataframe tbody tr th:only-of-type {\n",
       "        vertical-align: middle;\n",
       "    }\n",
       "\n",
       "    .dataframe tbody tr th {\n",
       "        vertical-align: top;\n",
       "    }\n",
       "\n",
       "    .dataframe thead th {\n",
       "        text-align: right;\n",
       "    }\n",
       "</style>\n",
       "<table border=\"1\" class=\"dataframe\">\n",
       "  <thead>\n",
       "    <tr style=\"text-align: right;\">\n",
       "      <th></th>\n",
       "      <th>id</th>\n",
       "      <th>created_at</th>\n",
       "      <th>tweet</th>\n",
       "      <th>urls</th>\n",
       "    </tr>\n",
       "  </thead>\n",
       "  <tbody>\n",
       "    <tr>\n",
       "      <th>104845</th>\n",
       "      <td>221099243107123201</td>\n",
       "      <td>2012-07-06 10:17:22+05:45</td>\n",
       "      <td>Integration of former combatants into Nepal Ar...</td>\n",
       "      <td>['http://fb.me/1MWLksOI5']</td>\n",
       "    </tr>\n",
       "    <tr>\n",
       "      <th>104846</th>\n",
       "      <td>221098935278772228</td>\n",
       "      <td>2012-07-06 10:16:08+05:45</td>\n",
       "      <td>Why make fuss of a confident PM after he hobno...</td>\n",
       "      <td>['http://fb.me/VKxnhs4N']</td>\n",
       "    </tr>\n",
       "    <tr>\n",
       "      <th>104847</th>\n",
       "      <td>221098156455247876</td>\n",
       "      <td>2012-07-06 10:13:02+05:45</td>\n",
       "      <td>The buzz over budget by Former Finance Ministe...</td>\n",
       "      <td>['http://fb.me/1Rwoo1bnG']</td>\n",
       "    </tr>\n",
       "    <tr>\n",
       "      <th>104848</th>\n",
       "      <td>221097419788664833</td>\n",
       "      <td>2012-07-06 10:10:07+05:45</td>\n",
       "      <td>Government plans to allocate Rs. 10 billion fo...</td>\n",
       "      <td>['http://fb.me/1JWfS9vGM']</td>\n",
       "    </tr>\n",
       "    <tr>\n",
       "      <th>104849</th>\n",
       "      <td>221095350692352000</td>\n",
       "      <td>2012-07-06 10:01:54+05:45</td>\n",
       "      <td>Is it possible, CA reinstatement for 27 minute...</td>\n",
       "      <td>['http://fb.me/28ZaLyQv7']</td>\n",
       "    </tr>\n",
       "  </tbody>\n",
       "</table>\n",
       "</div>"
      ],
      "text/plain": [
       "                        id                created_at  \\\n",
       "104845  221099243107123201 2012-07-06 10:17:22+05:45   \n",
       "104846  221098935278772228 2012-07-06 10:16:08+05:45   \n",
       "104847  221098156455247876 2012-07-06 10:13:02+05:45   \n",
       "104848  221097419788664833 2012-07-06 10:10:07+05:45   \n",
       "104849  221095350692352000 2012-07-06 10:01:54+05:45   \n",
       "\n",
       "                                                    tweet  \\\n",
       "104845  Integration of former combatants into Nepal Ar...   \n",
       "104846  Why make fuss of a confident PM after he hobno...   \n",
       "104847  The buzz over budget by Former Finance Ministe...   \n",
       "104848  Government plans to allocate Rs. 10 billion fo...   \n",
       "104849  Is it possible, CA reinstatement for 27 minute...   \n",
       "\n",
       "                              urls  \n",
       "104845  ['http://fb.me/1MWLksOI5']  \n",
       "104846   ['http://fb.me/VKxnhs4N']  \n",
       "104847  ['http://fb.me/1Rwoo1bnG']  \n",
       "104848  ['http://fb.me/1JWfS9vGM']  \n",
       "104849  ['http://fb.me/28ZaLyQv7']  "
      ]
     },
     "execution_count": 6,
     "metadata": {},
     "output_type": "execute_result"
    }
   ],
   "source": [
    "df.tail()"
   ]
  },
  {
   "cell_type": "code",
   "execution_count": 7,
   "metadata": {},
   "outputs": [
    {
     "data": {
      "text/html": [
       "<div>\n",
       "<style scoped>\n",
       "    .dataframe tbody tr th:only-of-type {\n",
       "        vertical-align: middle;\n",
       "    }\n",
       "\n",
       "    .dataframe tbody tr th {\n",
       "        vertical-align: top;\n",
       "    }\n",
       "\n",
       "    .dataframe thead th {\n",
       "        text-align: right;\n",
       "    }\n",
       "</style>\n",
       "<table border=\"1\" class=\"dataframe\">\n",
       "  <thead>\n",
       "    <tr style=\"text-align: right;\">\n",
       "      <th></th>\n",
       "      <th>id</th>\n",
       "    </tr>\n",
       "    <tr>\n",
       "      <th>created_at</th>\n",
       "      <th></th>\n",
       "    </tr>\n",
       "  </thead>\n",
       "  <tbody>\n",
       "    <tr>\n",
       "      <th>2012-12-31 00:00:00+05:45</th>\n",
       "      <td>399</td>\n",
       "    </tr>\n",
       "    <tr>\n",
       "      <th>2013-12-31 00:00:00+05:45</th>\n",
       "      <td>49</td>\n",
       "    </tr>\n",
       "    <tr>\n",
       "      <th>2014-12-31 00:00:00+05:45</th>\n",
       "      <td>7798</td>\n",
       "    </tr>\n",
       "    <tr>\n",
       "      <th>2015-12-31 00:00:00+05:45</th>\n",
       "      <td>13476</td>\n",
       "    </tr>\n",
       "    <tr>\n",
       "      <th>2016-12-31 00:00:00+05:45</th>\n",
       "      <td>18979</td>\n",
       "    </tr>\n",
       "    <tr>\n",
       "      <th>2017-12-31 00:00:00+05:45</th>\n",
       "      <td>21918</td>\n",
       "    </tr>\n",
       "    <tr>\n",
       "      <th>2018-12-31 00:00:00+05:45</th>\n",
       "      <td>17945</td>\n",
       "    </tr>\n",
       "    <tr>\n",
       "      <th>2019-12-31 00:00:00+05:45</th>\n",
       "      <td>11026</td>\n",
       "    </tr>\n",
       "    <tr>\n",
       "      <th>2020-12-31 00:00:00+05:45</th>\n",
       "      <td>9906</td>\n",
       "    </tr>\n",
       "    <tr>\n",
       "      <th>2021-12-31 00:00:00+05:45</th>\n",
       "      <td>3354</td>\n",
       "    </tr>\n",
       "  </tbody>\n",
       "</table>\n",
       "</div>"
      ],
      "text/plain": [
       "                              id\n",
       "created_at                      \n",
       "2012-12-31 00:00:00+05:45    399\n",
       "2013-12-31 00:00:00+05:45     49\n",
       "2014-12-31 00:00:00+05:45   7798\n",
       "2015-12-31 00:00:00+05:45  13476\n",
       "2016-12-31 00:00:00+05:45  18979\n",
       "2017-12-31 00:00:00+05:45  21918\n",
       "2018-12-31 00:00:00+05:45  17945\n",
       "2019-12-31 00:00:00+05:45  11026\n",
       "2020-12-31 00:00:00+05:45   9906\n",
       "2021-12-31 00:00:00+05:45   3354"
      ]
     },
     "execution_count": 7,
     "metadata": {},
     "output_type": "execute_result"
    }
   ],
   "source": [
    "df.resample('Y', on='created_at')[['id']].count()"
   ]
  },
  {
   "cell_type": "code",
   "execution_count": 8,
   "metadata": {},
   "outputs": [
    {
     "data": {
      "text/plain": [
       "<AxesSubplot:xlabel='created_at'>"
      ]
     },
     "execution_count": 8,
     "metadata": {},
     "output_type": "execute_result"
    },
    {
     "data": {
      "image/png": "[encoded data removed]",
      "text/plain": [
       "<Figure size 432x288 with 1 Axes>"
      ]
     },
     "metadata": {
      "needs_background": "light"
     },
     "output_type": "display_data"
    }
   ],
   "source": [
    "df.resample('Y', on='created_at')[['id']].count().plot(kind='bar')"
   ]
  },
  {
   "cell_type": "code",
   "execution_count": 9,
   "metadata": {},
   "outputs": [],
   "source": [
    "def keywords(urls):\n",
    "    try:\n",
    "        first_url = ast.literal_eval(urls)[0]\n",
    "        article = Article(first_url)\n",
    "        article.download()\n",
    "        article.parse()\n",
    "        article.nlp()\n",
    "        return article.keywords\n",
    "    except Exception as e:\n",
    "        print (e)\n",
    "        return None"
   ]
  },
  {
   "cell_type": "code",
   "execution_count": null,
   "metadata": {},
   "outputs": [],
   "source": [
    "# df['keywords'] = df.urls.swifter.apply(keywords)"
   ]
  },
  {
   "cell_type": "code",
   "execution_count": null,
   "metadata": {},
   "outputs": [],
   "source": [
    "# df.to_csv('ht.csv', index=False)"
   ]
  },
  {
   "cell_type": "code",
   "execution_count": null,
   "metadata": {},
   "outputs": [],
   "source": []
  }
 ],
 "metadata": {
  "kernelspec": {
   "display_name": "Python 3",
   "language": "python",
   "name": "python3"
  },
  "language_info": {
   "codemirror_mode": {
    "name": "ipython",
    "version": 3
   },
   "file_extension": ".py",
   "mimetype": "text/x-python",
   "name": "python",
   "nbconvert_exporter": "python",
   "pygments_lexer": "ipython3",
   "version": "3.8.5"
  }
 },
 "nbformat": 4,
 "nbformat_minor": 4
}
